{
 "cells": [
  {
   "cell_type": "code",
   "execution_count": 16,
   "id": "41e0d4ed",
   "metadata": {},
   "outputs": [],
   "source": [
    "text ='A paragraph is a collection of words strung together to make a longer unit than a sentence. Several sentences often make a paragraph. There are normally three to eight sentences in a paragraph. Paragraphs can start with a five-space indentation or by skipping a line and then starting over. This makes it simpler to tell when one paragraph ends and the next starts simply it has 3-9 lines.'"
   ]
  },
  {
   "cell_type": "markdown",
   "id": "05b51221",
   "metadata": {},
   "source": [
    "# Tokenization"
   ]
  },
  {
   "cell_type": "code",
   "execution_count": 17,
   "id": "26137c93",
   "metadata": {},
   "outputs": [],
   "source": [
    "import nltk # provides us various text processing libraries with a lot of test datasets"
   ]
  },
  {
   "cell_type": "code",
   "execution_count": 18,
   "id": "190d82ef",
   "metadata": {},
   "outputs": [
    {
     "name": "stderr",
     "output_type": "stream",
     "text": [
      "[nltk_data] Downloading package punkt to\n",
      "[nltk_data]     C:\\Users\\DELL\\AppData\\Roaming\\nltk_data...\n",
      "[nltk_data]   Package punkt is already up-to-date!\n"
     ]
    },
    {
     "data": {
      "text/plain": [
       "True"
      ]
     },
     "execution_count": 18,
     "metadata": {},
     "output_type": "execute_result"
    }
   ],
   "source": [
    "nltk.download('punkt') # punkt is for puntuatioin "
   ]
  },
  {
   "cell_type": "code",
   "execution_count": 19,
   "id": "d71a272c",
   "metadata": {},
   "outputs": [],
   "source": [
    "from nltk.tokenize import word_tokenize"
   ]
  },
  {
   "cell_type": "code",
   "execution_count": 20,
   "id": "441b8c54",
   "metadata": {},
   "outputs": [
    {
     "data": {
      "text/plain": [
       "['A',\n",
       " 'paragraph',\n",
       " 'is',\n",
       " 'a',\n",
       " 'collection',\n",
       " 'of',\n",
       " 'words',\n",
       " 'strung',\n",
       " 'together',\n",
       " 'to',\n",
       " 'make',\n",
       " 'a',\n",
       " 'longer',\n",
       " 'unit',\n",
       " 'than',\n",
       " 'a',\n",
       " 'sentence',\n",
       " '.',\n",
       " 'Several',\n",
       " 'sentences',\n",
       " 'often',\n",
       " 'make',\n",
       " 'a',\n",
       " 'paragraph',\n",
       " '.',\n",
       " 'There',\n",
       " 'are',\n",
       " 'normally',\n",
       " 'three',\n",
       " 'to',\n",
       " 'eight',\n",
       " 'sentences',\n",
       " 'in',\n",
       " 'a',\n",
       " 'paragraph',\n",
       " '.',\n",
       " 'Paragraphs',\n",
       " 'can',\n",
       " 'start',\n",
       " 'with',\n",
       " 'a',\n",
       " 'five-space',\n",
       " 'indentation',\n",
       " 'or',\n",
       " 'by',\n",
       " 'skipping',\n",
       " 'a',\n",
       " 'line',\n",
       " 'and',\n",
       " 'then',\n",
       " 'starting',\n",
       " 'over',\n",
       " '.',\n",
       " 'This',\n",
       " 'makes',\n",
       " 'it',\n",
       " 'simpler',\n",
       " 'to',\n",
       " 'tell',\n",
       " 'when',\n",
       " 'one',\n",
       " 'paragraph',\n",
       " 'ends',\n",
       " 'and',\n",
       " 'the',\n",
       " 'next',\n",
       " 'starts',\n",
       " 'simply',\n",
       " 'it',\n",
       " 'has',\n",
       " '3-9',\n",
       " 'lines',\n",
       " '.']"
      ]
     },
     "execution_count": 20,
     "metadata": {},
     "output_type": "execute_result"
    }
   ],
   "source": [
    "word_tokenize(text)"
   ]
  },
  {
   "cell_type": "markdown",
   "id": "8d7ef9bc",
   "metadata": {},
   "source": [
    "# sentence tokenizing"
   ]
  },
  {
   "cell_type": "code",
   "execution_count": 21,
   "id": "08a621e3",
   "metadata": {},
   "outputs": [],
   "source": [
    "from nltk.tokenize import sent_tokenize"
   ]
  },
  {
   "cell_type": "code",
   "execution_count": 22,
   "id": "495f2aa1",
   "metadata": {},
   "outputs": [
    {
     "data": {
      "text/plain": [
       "['A paragraph is a collection of words strung together to make a longer unit than a sentence.',\n",
       " 'Several sentences often make a paragraph.',\n",
       " 'There are normally three to eight sentences in a paragraph.',\n",
       " 'Paragraphs can start with a five-space indentation or by skipping a line and then starting over.',\n",
       " 'This makes it simpler to tell when one paragraph ends and the next starts simply it has 3-9 lines.']"
      ]
     },
     "execution_count": 22,
     "metadata": {},
     "output_type": "execute_result"
    }
   ],
   "source": [
    "sent_tokenize(text)"
   ]
  },
  {
   "cell_type": "markdown",
   "id": "731f95da",
   "metadata": {},
   "source": [
    "# SpaCy for languages other than English (for tokenizing)"
   ]
  },
  {
   "cell_type": "code",
   "execution_count": 23,
   "id": "57f1f9cd",
   "metadata": {},
   "outputs": [],
   "source": [
    "line='Un párrafo es una colección de palabras unidas para formar una unidad más larga que una oración. Varias oraciones a menudo forman un párrafo. Normalmente hay de tres a ocho oraciones en un párrafo. Los párrafos pueden comenzar con una sangría de cinco espacios o saltándose una línea y luego comenzando de nuevo. Esto hace que sea más sencillo saber cuándo termina un párrafo y comienza el siguiente, simplemente tiene de 3 a 9 líneas.'"
   ]
  },
  {
   "cell_type": "code",
   "execution_count": 24,
   "id": "5e058f5a",
   "metadata": {},
   "outputs": [],
   "source": [
    "from spacy.lang.es import Spanish"
   ]
  },
  {
   "cell_type": "code",
   "execution_count": 25,
   "id": "778e78ff",
   "metadata": {},
   "outputs": [],
   "source": [
    "spac=Spanish()"
   ]
  },
  {
   "cell_type": "code",
   "execution_count": 26,
   "id": "9f3e9311",
   "metadata": {},
   "outputs": [],
   "source": [
    "doc=spac(line)"
   ]
  },
  {
   "cell_type": "code",
   "execution_count": 27,
   "id": "4080279b",
   "metadata": {},
   "outputs": [
    {
     "data": {
      "text/plain": [
       "['Un',\n",
       " 'párrafo',\n",
       " 'es',\n",
       " 'una',\n",
       " 'colección',\n",
       " 'de',\n",
       " 'palabras',\n",
       " 'unidas',\n",
       " 'para',\n",
       " 'formar',\n",
       " 'una',\n",
       " 'unidad',\n",
       " 'más',\n",
       " 'larga',\n",
       " 'que',\n",
       " 'una',\n",
       " 'oración',\n",
       " '.',\n",
       " 'Varias',\n",
       " 'oraciones',\n",
       " 'a',\n",
       " 'menudo',\n",
       " 'forman',\n",
       " 'un',\n",
       " 'párrafo',\n",
       " '.',\n",
       " 'Normalmente',\n",
       " 'hay',\n",
       " 'de',\n",
       " 'tres',\n",
       " 'a',\n",
       " 'ocho',\n",
       " 'oraciones',\n",
       " 'en',\n",
       " 'un',\n",
       " 'párrafo',\n",
       " '.',\n",
       " 'Los',\n",
       " 'párrafos',\n",
       " 'pueden',\n",
       " 'comenzar',\n",
       " 'con',\n",
       " 'una',\n",
       " 'sangría',\n",
       " 'de',\n",
       " 'cinco',\n",
       " 'espacios',\n",
       " 'o',\n",
       " 'saltándose',\n",
       " 'una',\n",
       " 'línea',\n",
       " 'y',\n",
       " 'luego',\n",
       " 'comenzando',\n",
       " 'de',\n",
       " 'nuevo',\n",
       " '.',\n",
       " 'Esto',\n",
       " 'hace',\n",
       " 'que',\n",
       " 'sea',\n",
       " 'más',\n",
       " 'sencillo',\n",
       " 'saber',\n",
       " 'cuándo',\n",
       " 'termina',\n",
       " 'un',\n",
       " 'párrafo',\n",
       " 'y',\n",
       " 'comienza',\n",
       " 'el',\n",
       " 'siguiente',\n",
       " ',',\n",
       " 'simplemente',\n",
       " 'tiene',\n",
       " 'de',\n",
       " '3',\n",
       " 'a',\n",
       " '9',\n",
       " 'líneas',\n",
       " '.']"
      ]
     },
     "execution_count": 27,
     "metadata": {},
     "output_type": "execute_result"
    }
   ],
   "source": [
    "token =[token.text for token in doc]\n",
    "token"
   ]
  },
  {
   "cell_type": "markdown",
   "id": "2e4ae5f2",
   "metadata": {},
   "source": [
    "# tokenizing with Gensim"
   ]
  },
  {
   "cell_type": "code",
   "execution_count": 28,
   "id": "b951ef47",
   "metadata": {},
   "outputs": [],
   "source": [
    "from gensim.utils import tokenize"
   ]
  },
  {
   "cell_type": "code",
   "execution_count": 29,
   "id": "db574d9d",
   "metadata": {},
   "outputs": [
    {
     "name": "stdout",
     "output_type": "stream",
     "text": [
      "['A', 'paragraph', 'is', 'a', 'collection', 'of', 'words', 'strung', 'together', 'to', 'make', 'a', 'longer', 'unit', 'than', 'a', 'sentence', 'Several', 'sentences', 'often', 'make', 'a', 'paragraph', 'There', 'are', 'normally', 'three', 'to', 'eight', 'sentences', 'in', 'a', 'paragraph', 'Paragraphs', 'can', 'start', 'with', 'a', 'five', 'space', 'indentation', 'or', 'by', 'skipping', 'a', 'line', 'and', 'then', 'starting', 'over', 'This', 'makes', 'it', 'simpler', 'to', 'tell', 'when', 'one', 'paragraph', 'ends', 'and', 'the', 'next', 'starts', 'simply', 'it', 'has', 'lines']\n"
     ]
    }
   ],
   "source": [
    "print (list(tokenize(text)))"
   ]
  },
  {
   "cell_type": "code",
   "execution_count": null,
   "id": "e482e04e",
   "metadata": {},
   "outputs": [],
   "source": []
  }
 ],
 "metadata": {
  "kernelspec": {
   "display_name": "Python 3.10.7 64-bit",
   "language": "python",
   "name": "python3"
  },
  "language_info": {
   "codemirror_mode": {
    "name": "ipython",
    "version": 3
   },
   "file_extension": ".py",
   "mimetype": "text/x-python",
   "name": "python",
   "nbconvert_exporter": "python",
   "pygments_lexer": "ipython3",
   "version": "3.10.7"
  },
  "vscode": {
   "interpreter": {
    "hash": "fbc768028c3e6ead51d9a200ddcb2ec858ae62844dcd1994729a8279be9b48f2"
   }
  }
 },
 "nbformat": 4,
 "nbformat_minor": 5
}
